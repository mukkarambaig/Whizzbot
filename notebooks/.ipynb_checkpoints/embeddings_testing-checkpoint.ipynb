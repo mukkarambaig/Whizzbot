{
 "cells": [
  {
   "cell_type": "code",
   "execution_count": 1,
   "id": "f13a68d3-3fc6-42a9-9923-ecdccf2c4f5a",
   "metadata": {
    "tags": []
   },
   "outputs": [],
   "source": [
    "from pypdf import PdfReader"
   ]
  },
  {
   "cell_type": "code",
   "execution_count": 2,
   "id": "262ee1ba-bfd1-4aa5-bc74-29a57d87d618",
   "metadata": {
    "tags": []
   },
   "outputs": [],
   "source": [
    "def read_pdf(file_path):\n",
    "    ''' Read text from a PDF file '''\n",
    "    with open(file_path, \"rb\") as file:\n",
    "        pdf_reader = PdfReader(file)\n",
    "        text = \"\"\n",
    "        for page_num in range(len(pdf_reader.pages)):\n",
    "            text += pdf_reader.pages[page_num].extract_text()\n",
    "    return text"
   ]
  },
  {
   "cell_type": "code",
   "execution_count": 5,
   "id": "ac825e18-298c-4e4a-91f9-fb6cbfd04fcc",
   "metadata": {
    "tags": []
   },
   "outputs": [],
   "source": [
    "text = read_pdf(\"Employment Policy - WB (Updated).pdf\")"
   ]
  },
  {
   "cell_type": "code",
   "execution_count": null,
   "id": "576f5256-ef6b-45e9-a565-e9103445a5a8",
   "metadata": {},
   "outputs": [],
   "source": [
    "def recursive_create_text_chunks():\n",
    "    text = read_documents_from_directory(data_path)\n",
    "    text_splitter = RecursiveCharacterTextSplitter(chunk_size=1500,\n",
    "                                                   chunk_overlap=200, length_function=len)\n",
    "    text_chucks = text_splitter.create_documents([text])\n",
    "    return text_chucks\n"
   ]
  },
  {
   "cell_type": "code",
   "execution_count": null,
   "id": "39a167dd-a2ab-49ec-9755-c6294175cb05",
   "metadata": {},
   "outputs": [],
   "source": []
  },
  {
   "cell_type": "code",
   "execution_count": null,
   "id": "662b0dd6-a4d3-4c00-ad0d-47c13afa783c",
   "metadata": {},
   "outputs": [],
   "source": []
  },
  {
   "cell_type": "code",
   "execution_count": null,
   "id": "23d98c0c-a6cf-4dd1-9964-eda595072a93",
   "metadata": {},
   "outputs": [],
   "source": []
  },
  {
   "cell_type": "code",
   "execution_count": null,
   "id": "3bbcb0bc-77af-42e8-90bf-73e77a016f7b",
   "metadata": {},
   "outputs": [],
   "source": []
  },
  {
   "cell_type": "code",
   "execution_count": null,
   "id": "8837a835-c7ae-4581-a0c1-30a69c98ece8",
   "metadata": {},
   "outputs": [],
   "source": []
  },
  {
   "cell_type": "code",
   "execution_count": null,
   "id": "79fde65f-9cf9-4146-b290-8a2f9891202c",
   "metadata": {},
   "outputs": [],
   "source": []
  }
 ],
 "metadata": {
  "kernelspec": {
   "display_name": ".venv",
   "language": "python",
   "name": ".venv"
  },
  "language_info": {
   "codemirror_mode": {
    "name": "ipython",
    "version": 3
   },
   "file_extension": ".py",
   "mimetype": "text/x-python",
   "name": "python",
   "nbconvert_exporter": "python",
   "pygments_lexer": "ipython3",
   "version": "3.11.5"
  }
 },
 "nbformat": 4,
 "nbformat_minor": 5
}
